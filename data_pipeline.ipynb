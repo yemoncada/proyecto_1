{
 "cells": [
  {
   "cell_type": "markdown",
   "id": "6cdbc9bf-1aed-4ce7-86e4-ce4db517942d",
   "metadata": {
    "tags": []
   },
   "source": [
    "<!-- PROJECT LOGO -->\n",
    "<br />\n",
    "<div align=\"center\">\n",
    "  <a href=\"https://www.javeriana.edu.co/inicio\">\n",
    "    <img src=\"https://www.camaradelpacifico.org/tl_files/Casos%20Exito/AFILIADOS/JAVERIANA/tiara_javeriana.png\" alt=\"Logo\" width=\"300\" height=\"100\">\n",
    "  </a>\n",
    "\n",
    "  <h2 align=\"center\"> Proyecto 1: Data Pipeline</h2>\n",
    "  <h2 align=\"center\"> Topicos Avanzados de IA</h2>\n",
    "  <h4 align=\"center\"> Yefry Moncada Linares, David Andrés Peña</h4>\n",
    "    \n",
    "***\n",
    "\n",
    "  <p align=\"center\">\n",
    "    El siguiente notebook se realizará el proceso detallado de evaluación, ingesta, validación y transformación de datos para el conjunto de datos **Tipo de Cubierta Forestal**</p>\n",
    "</div>\n",
    "\n",
    "\n",
    "* [1. Selección de características](#topic1)\n",
    "* [2. Ingesta del Conjunto de datos](#topic2)\n",
    "* [3. Generación de las estadísticas del conjunto de datos](#topic3)\n",
    "* [4. Creación de un esquema según el conocimiento del dominio.](#topic4)\n",
    "* [5. Creación de entornos de esquema](#topic5)\n",
    "* [6. Visualización de las anomalías del conjunto de datos](#topic6)\n",
    "* [7. Preprocesamiento, transformación e ingeniería de sus características](#topic7)\n",
    "* [8. Seguimiento de la procedencia de su flujo de datos utilizando metadatos de ML](#topic8)"
   ]
  },
  {
   "cell_type": "markdown",
   "id": "a036ab7b-6586-4d0e-af51-720290c2e869",
   "metadata": {},
   "source": [
    "### Importamos las librerias"
   ]
  },
  {
   "cell_type": "code",
   "execution_count": 2,
   "id": "8dfc2c3d-d94c-4af3-864a-d8639981d97d",
   "metadata": {
    "tags": []
   },
   "outputs": [],
   "source": [
    "import os\n",
    "import requests"
   ]
  },
  {
   "cell_type": "markdown",
   "id": "d2c6486c-0fd9-4e45-a265-eb614364a1c0",
   "metadata": {},
   "source": [
    "### Cargamos el Dataset"
   ]
  },
  {
   "cell_type": "code",
   "execution_count": 3,
   "id": "eea5e301-f936-4175-bfda-c5e87a756eb6",
   "metadata": {
    "tags": []
   },
   "outputs": [],
   "source": [
    "## download the dataset\n",
    "# Directory of the raw data files\n",
    "_data_root = './data/covertype'\n",
    "# Path to the raw training data\n",
    "_data_filepath = os.path.join(_data_root, 'covertype_train.csv')\n",
    "# Download data\n",
    "os.makedirs(_data_root, exist_ok=True)\n",
    "if not os.path.isfile(_data_filepath):\n",
    "    #https://archive.ics.uci.edu/ml/machine-learning-databases/covtype/\n",
    "    url = 'https://docs.google.com/uc?export= \\\n",
    "    download&confirm={{VALUE}}&id=1lVF1BCWLH4eXXV_YOJzjR7xZjj-wAGj9'\n",
    "    r = requests.get(url, allow_redirects=True, stream=True)\n",
    "    open(_data_filepath, 'wb').write(r.content)\n"
   ]
  },
  {
   "cell_type": "markdown",
   "id": "917f34e1-43b4-4ecd-bd5f-34c29ec92ec7",
   "metadata": {},
   "source": [
    "## 3. Seleccion de características\n",
    "\n",
    "- Univariate-feature-selection\n",
    "- SelectKbest\n"
   ]
  },
  {
   "cell_type": "markdown",
   "id": "98cdee23-a0f5-423e-b7f1-16e133496721",
   "metadata": {},
   "source": [
    "## 4. Data Pipeline"
   ]
  },
  {
   "cell_type": "markdown",
   "id": "cc83c398-950d-4df7-bcc7-e22fd6adf54f",
   "metadata": {},
   "source": [
    "### 4.1. Configurar el contexto interactivo\n"
   ]
  },
  {
   "cell_type": "markdown",
   "id": "c98a9d45-4772-4e47-b88f-c298e03ac712",
   "metadata": {},
   "source": [
    "### 4.2. Generando Ejemplos"
   ]
  },
  {
   "cell_type": "markdown",
   "id": "054198f9-aa19-4044-b784-01e2d62e5ce7",
   "metadata": {},
   "source": [
    "### 4.3. Estadísticas"
   ]
  },
  {
   "cell_type": "markdown",
   "id": "21017938-cbf5-494e-abf0-acfb6d5e2840",
   "metadata": {},
   "source": [
    "### 4.5. Curando el esquema\n"
   ]
  },
  {
   "cell_type": "markdown",
   "id": "c3e641d3-3dba-4d55-b247-d57f98c5ae10",
   "metadata": {},
   "source": [
    "### 4.6. Entornos de esquema"
   ]
  },
  {
   "cell_type": "markdown",
   "id": "e73b3ce1-ffe7-4e55-89fd-009f047936dd",
   "metadata": {},
   "source": [
    "### 4.7. Genere nuevas estadísticas usando el esquema actualizado"
   ]
  },
  {
   "cell_type": "markdown",
   "id": "fe88a854-bcb9-4af1-8bc7-573cdcc3b7d2",
   "metadata": {},
   "source": [
    "### 4.8. Comprobar anomalías\n"
   ]
  },
  {
   "cell_type": "markdown",
   "id": "7e5bad93-3e1e-4188-8f93-213a959e5e92",
   "metadata": {},
   "source": [
    "### 4.9. Ingeniería de características\n"
   ]
  },
  {
   "cell_type": "markdown",
   "id": "3cb9d29a-12c7-4518-a208-3a3f38bd56d0",
   "metadata": {},
   "source": [
    "### 4.10. Función de preprocesamiento"
   ]
  },
  {
   "cell_type": "markdown",
   "id": "382a9b0a-7f39-4cf7-ae6c-36d7b96221f4",
   "metadata": {},
   "source": [
    "### 4.11. Transformar"
   ]
  },
  {
   "cell_type": "markdown",
   "id": "4e4eed9c-8b80-4bbe-9193-b35bf5a9d5a8",
   "metadata": {},
   "source": [
    "## 5. Metadatos de aprendizaje autom´atico. Seleccion de características"
   ]
  },
  {
   "cell_type": "markdown",
   "id": "49d9f5bd-c05c-44f8-ac78-5dd9c6beba0c",
   "metadata": {},
   "source": [
    "### 5.1. Acceso a artefactos almacenados"
   ]
  },
  {
   "cell_type": "markdown",
   "id": "159f2959-199d-4416-b17c-4cd315f50ae9",
   "metadata": {},
   "source": [
    "### 5.2. Seguimiento de artefactos"
   ]
  },
  {
   "cell_type": "markdown",
   "id": "ab0cb4ab-bca4-4723-95d9-a57a228c6f2d",
   "metadata": {},
   "source": [
    "### 5.3. Obtener artefactos principales"
   ]
  }
 ],
 "metadata": {
  "kernelspec": {
   "display_name": "Python 3 (ipykernel)",
   "language": "python",
   "name": "python3"
  },
  "language_info": {
   "codemirror_mode": {
    "name": "ipython",
    "version": 3
   },
   "file_extension": ".py",
   "mimetype": "text/x-python",
   "name": "python",
   "nbconvert_exporter": "python",
   "pygments_lexer": "ipython3",
   "version": "3.9.16"
  }
 },
 "nbformat": 4,
 "nbformat_minor": 5
}
